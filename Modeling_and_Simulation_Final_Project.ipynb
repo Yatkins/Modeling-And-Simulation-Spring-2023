{
  "nbformat": 4,
  "nbformat_minor": 0,
  "metadata": {
    "colab": {
      "provenance": []
    },
    "kernelspec": {
      "name": "python3",
      "display_name": "Python 3"
    },
    "language_info": {
      "name": "python"
    }
  },
  "cells": [
    {
      "cell_type": "code",
      "source": [
        "import random\n",
        "import matplotlib.pyplot as plt"
      ],
      "metadata": {
        "id": "mWeeq_w-nEds"
      },
      "execution_count": 1,
      "outputs": []
    },
    {
      "cell_type": "code",
      "source": [
        "# Define the pricing environment\n",
        "class PricingEnvironment:\n",
        "    def __init__(self, max_price, costs):\n",
        "        self.max_price = max_price\n",
        "        self.costs = costs\n",
        "\n",
        "    def get_profit(self, price, demand):\n",
        "        revenue = price * demand\n",
        "        cost = self.costs\n",
        "        return revenue - cost\n",
        "\n",
        "    def get_demand(self, price):\n",
        "        return demand_fn(price)"
      ],
      "metadata": {
        "id": "9TRJv0B3X0mG"
      },
      "execution_count": 2,
      "outputs": []
    },
    {
      "cell_type": "code",
      "source": [
        "# Define the reinforcement learning agent\n",
        "class QLearningAgent:\n",
        "    def __init__(self, actions):\n",
        "        self.Q = {}\n",
        "        self.actions = actions\n",
        "        self.alpha = 0.2 #learning rate\n",
        "        self.discount = 0.9\n",
        "        self.epsilon = 0.1 #exploariton rate\n",
        "\n",
        "    #returns the Q-value for that state-action pair\n",
        "    def get_Q_value(self, state, action):\n",
        "        if (state, action) not in self.Q:\n",
        "            self.Q[(state, action)] = 0.0\n",
        "        return self.Q[(state, action)]\n",
        "\n",
        "    #returns an action using an epsilon-greedy policy\n",
        "    def choose_action(self, state):\n",
        "        if random.random() < self.epsilon:\n",
        "            return random.choice(self.actions)\n",
        "        else:\n",
        "            values = [self.get_Q_value(state, a) for a in self.actions]\n",
        "            max_value = max(values)\n",
        "            if values.count(max_value) > 1:\n",
        "                best_actions = [i for i in range(len(self.actions)) if values[i] == max_value]\n",
        "                i = random.choice(best_actions)\n",
        "            else:\n",
        "                i = values.index(max_value)\n",
        "            return self.actions[i]\n",
        "\n",
        "    def update_Q_value(self, state, action, next_state, reward):\n",
        "        old_value = self.get_Q_value(state, action)\n",
        "        next_max = max([self.get_Q_value(next_state, a) for a in self.actions])\n",
        "        new_value = (1 - self.alpha) * old_value + self.alpha * (reward + self.discount * next_max)\n",
        "        self.Q[(state, action)] = new_value"
      ],
      "metadata": {
        "id": "D9EfM6YTfcIy"
      },
      "execution_count": 3,
      "outputs": []
    },
    {
      "cell_type": "code",
      "source": [
        "# Define the demand function\n",
        "def demand_fn(price):\n",
        "    return 100 - price\n",
        "\n",
        "# Define the cost\n",
        "costs = 50\n",
        "\n",
        "# Define the pricing environment\n",
        "env = PricingEnvironment(100, costs)\n",
        "\n",
        "# Define the reinforcement learning agent\n",
        "agent = QLearningAgent(range(env.max_price + 1))"
      ],
      "metadata": {
        "id": "TxT8TAiZl3gR"
      },
      "execution_count": 4,
      "outputs": []
    },
    {
      "cell_type": "code",
      "source": [
        "# Train the agent\n",
        "num_episodes = 1000\n",
        "for i in range(num_episodes):\n",
        "    state = (env.get_demand(0), 0)\n",
        "    for t in range(30):\n",
        "        price = agent.choose_action(state)\n",
        "        demand = env.get_demand(price)\n",
        "        profit = env.get_profit(price, demand)\n",
        "        next_state = (env.get_demand(price), min(price + 1, env.max_price))\n",
        "        agent.update_Q_value(state, price, next_state, profit)\n",
        "        state = next_state\n",
        "\n",
        "prices = []\n",
        "demands = []\n",
        "\n",
        "# Test the agent\n",
        "state = (env.get_demand(0), 0)\n",
        "for t in range(50):\n",
        "    price = max(agent.actions, key=lambda x: agent.get_Q_value(state, x))\n",
        "    prices.append(price)\n",
        "    demand = env.get_demand(price)\n",
        "    demands.append(demand)\n",
        "    print(\"Price:\", price, \"Demand:\", demand)\n",
        "    state = (demand, price)\n",
        "\n",
        "plt.plot(prices,demands)\n",
        "\n",
        "plt.xlabel = ('price')\n",
        "plt.ylabel = ('demand')"
      ],
      "metadata": {
        "colab": {
          "base_uri": "https://localhost:8080/",
          "height": 1000
        },
        "id": "9rF6R3pKmj3z",
        "outputId": "56d6fabb-704d-414e-bc6b-32acb8a04d1e"
      },
      "execution_count": 5,
      "outputs": [
        {
          "output_type": "stream",
          "name": "stdout",
          "text": [
            "Price: 54 Demand: 46\n",
            "Price: 0 Demand: 100\n",
            "Price: 54 Demand: 46\n",
            "Price: 0 Demand: 100\n",
            "Price: 54 Demand: 46\n",
            "Price: 0 Demand: 100\n",
            "Price: 54 Demand: 46\n",
            "Price: 0 Demand: 100\n",
            "Price: 54 Demand: 46\n",
            "Price: 0 Demand: 100\n",
            "Price: 54 Demand: 46\n",
            "Price: 0 Demand: 100\n",
            "Price: 54 Demand: 46\n",
            "Price: 0 Demand: 100\n",
            "Price: 54 Demand: 46\n",
            "Price: 0 Demand: 100\n",
            "Price: 54 Demand: 46\n",
            "Price: 0 Demand: 100\n",
            "Price: 54 Demand: 46\n",
            "Price: 0 Demand: 100\n",
            "Price: 54 Demand: 46\n",
            "Price: 0 Demand: 100\n",
            "Price: 54 Demand: 46\n",
            "Price: 0 Demand: 100\n",
            "Price: 54 Demand: 46\n",
            "Price: 0 Demand: 100\n",
            "Price: 54 Demand: 46\n",
            "Price: 0 Demand: 100\n",
            "Price: 54 Demand: 46\n",
            "Price: 0 Demand: 100\n",
            "Price: 54 Demand: 46\n",
            "Price: 0 Demand: 100\n",
            "Price: 54 Demand: 46\n",
            "Price: 0 Demand: 100\n",
            "Price: 54 Demand: 46\n",
            "Price: 0 Demand: 100\n",
            "Price: 54 Demand: 46\n",
            "Price: 0 Demand: 100\n",
            "Price: 54 Demand: 46\n",
            "Price: 0 Demand: 100\n",
            "Price: 54 Demand: 46\n",
            "Price: 0 Demand: 100\n",
            "Price: 54 Demand: 46\n",
            "Price: 0 Demand: 100\n",
            "Price: 54 Demand: 46\n",
            "Price: 0 Demand: 100\n",
            "Price: 54 Demand: 46\n",
            "Price: 0 Demand: 100\n",
            "Price: 54 Demand: 46\n",
            "Price: 0 Demand: 100\n"
          ]
        },
        {
          "output_type": "display_data",
          "data": {
            "text/plain": [
              "<Figure size 640x480 with 1 Axes>"
            ],
            "image/png": "[encoded data removed]"
          },
          "metadata": {}
        }
      ]
    }
  ]
}